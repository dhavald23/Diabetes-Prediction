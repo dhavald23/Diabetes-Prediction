{
 "cells": [
  {
   "cell_type": "markdown",
   "id": "320ca72b",
   "metadata": {},
   "source": [
    "# # Name - Dhaval Dharmesh Desai CSULB ID - 027985839"
   ]
  },
  {
   "cell_type": "code",
   "execution_count": 1,
   "id": "b7e8ea26",
   "metadata": {},
   "outputs": [],
   "source": [
    "import numpy as np\n",
    "import itertools\n",
    "import os\n",
    "import pandas as pd\n",
    "import seaborn as sea\n",
    "\n",
    "from sklearn.preprocessing import StandardScaler\n",
    "from sklearn.model_selection import train_test_split\n",
    "from sklearn.linear_model import LogisticRegression\n",
    "from sklearn.metrics import classification_report\n",
    "from sklearn.neural_network import MLPClassifier\n",
    "from sklearn.feature_selection import RFE\n",
    "from sklearn.metrics import plot_confusion_matrix\n",
    "from sklearn.model_selection import GridSearchCV\n",
    "from sklearn.metrics import accuracy_score\n",
    "\n",
    "\n",
    "import matplotlib.pyplot as plt\n",
    "import matplotlib.gridspec as gridspec"
   ]
  },
  {
   "cell_type": "code",
   "execution_count": 2,
   "id": "9f4eb339",
   "metadata": {},
   "outputs": [],
   "source": [
    "sea.set_style(\"whitegrid\")"
   ]
  },
  {
   "cell_type": "code",
   "execution_count": 3,
   "id": "794df234",
   "metadata": {},
   "outputs": [],
   "source": [
    "df = pd.read_csv(\"diabetes.csv\")"
   ]
  },
  {
   "cell_type": "code",
   "execution_count": 4,
   "id": "a8c9e3d9",
   "metadata": {},
   "outputs": [
    {
     "data": {
      "text/html": [
       "<div>\n",
       "<style scoped>\n",
       "    .dataframe tbody tr th:only-of-type {\n",
       "        vertical-align: middle;\n",
       "    }\n",
       "\n",
       "    .dataframe tbody tr th {\n",
       "        vertical-align: top;\n",
       "    }\n",
       "\n",
       "    .dataframe thead th {\n",
       "        text-align: right;\n",
       "    }\n",
       "</style>\n",
       "<table border=\"1\" class=\"dataframe\">\n",
       "  <thead>\n",
       "    <tr style=\"text-align: right;\">\n",
       "      <th></th>\n",
       "      <th>Pregnancies</th>\n",
       "      <th>Glucose</th>\n",
       "      <th>BloodPressure</th>\n",
       "      <th>SkinThickness</th>\n",
       "      <th>Insulin</th>\n",
       "      <th>BMI</th>\n",
       "      <th>DiabetesPedigreeFunction</th>\n",
       "      <th>Age</th>\n",
       "      <th>Outcome</th>\n",
       "    </tr>\n",
       "  </thead>\n",
       "  <tbody>\n",
       "    <tr>\n",
       "      <th>count</th>\n",
       "      <td>768.000000</td>\n",
       "      <td>768.000000</td>\n",
       "      <td>768.000000</td>\n",
       "      <td>768.000000</td>\n",
       "      <td>768.000000</td>\n",
       "      <td>768.000000</td>\n",
       "      <td>768.000000</td>\n",
       "      <td>768.000000</td>\n",
       "      <td>768.000000</td>\n",
       "    </tr>\n",
       "    <tr>\n",
       "      <th>mean</th>\n",
       "      <td>3.845052</td>\n",
       "      <td>120.894531</td>\n",
       "      <td>69.105469</td>\n",
       "      <td>20.536458</td>\n",
       "      <td>79.799479</td>\n",
       "      <td>31.992578</td>\n",
       "      <td>0.471876</td>\n",
       "      <td>33.240885</td>\n",
       "      <td>0.348958</td>\n",
       "    </tr>\n",
       "    <tr>\n",
       "      <th>std</th>\n",
       "      <td>3.369578</td>\n",
       "      <td>31.972618</td>\n",
       "      <td>19.355807</td>\n",
       "      <td>15.952218</td>\n",
       "      <td>115.244002</td>\n",
       "      <td>7.884160</td>\n",
       "      <td>0.331329</td>\n",
       "      <td>11.760232</td>\n",
       "      <td>0.476951</td>\n",
       "    </tr>\n",
       "    <tr>\n",
       "      <th>min</th>\n",
       "      <td>0.000000</td>\n",
       "      <td>0.000000</td>\n",
       "      <td>0.000000</td>\n",
       "      <td>0.000000</td>\n",
       "      <td>0.000000</td>\n",
       "      <td>0.000000</td>\n",
       "      <td>0.078000</td>\n",
       "      <td>21.000000</td>\n",
       "      <td>0.000000</td>\n",
       "    </tr>\n",
       "    <tr>\n",
       "      <th>25%</th>\n",
       "      <td>1.000000</td>\n",
       "      <td>99.000000</td>\n",
       "      <td>62.000000</td>\n",
       "      <td>0.000000</td>\n",
       "      <td>0.000000</td>\n",
       "      <td>27.300000</td>\n",
       "      <td>0.243750</td>\n",
       "      <td>24.000000</td>\n",
       "      <td>0.000000</td>\n",
       "    </tr>\n",
       "    <tr>\n",
       "      <th>50%</th>\n",
       "      <td>3.000000</td>\n",
       "      <td>117.000000</td>\n",
       "      <td>72.000000</td>\n",
       "      <td>23.000000</td>\n",
       "      <td>30.500000</td>\n",
       "      <td>32.000000</td>\n",
       "      <td>0.372500</td>\n",
       "      <td>29.000000</td>\n",
       "      <td>0.000000</td>\n",
       "    </tr>\n",
       "    <tr>\n",
       "      <th>75%</th>\n",
       "      <td>6.000000</td>\n",
       "      <td>140.250000</td>\n",
       "      <td>80.000000</td>\n",
       "      <td>32.000000</td>\n",
       "      <td>127.250000</td>\n",
       "      <td>36.600000</td>\n",
       "      <td>0.626250</td>\n",
       "      <td>41.000000</td>\n",
       "      <td>1.000000</td>\n",
       "    </tr>\n",
       "    <tr>\n",
       "      <th>max</th>\n",
       "      <td>17.000000</td>\n",
       "      <td>199.000000</td>\n",
       "      <td>122.000000</td>\n",
       "      <td>99.000000</td>\n",
       "      <td>846.000000</td>\n",
       "      <td>67.100000</td>\n",
       "      <td>2.420000</td>\n",
       "      <td>81.000000</td>\n",
       "      <td>1.000000</td>\n",
       "    </tr>\n",
       "  </tbody>\n",
       "</table>\n",
       "</div>"
      ],
      "text/plain": [
       "       Pregnancies     Glucose  BloodPressure  SkinThickness     Insulin  \\\n",
       "count   768.000000  768.000000     768.000000     768.000000  768.000000   \n",
       "mean      3.845052  120.894531      69.105469      20.536458   79.799479   \n",
       "std       3.369578   31.972618      19.355807      15.952218  115.244002   \n",
       "min       0.000000    0.000000       0.000000       0.000000    0.000000   \n",
       "25%       1.000000   99.000000      62.000000       0.000000    0.000000   \n",
       "50%       3.000000  117.000000      72.000000      23.000000   30.500000   \n",
       "75%       6.000000  140.250000      80.000000      32.000000  127.250000   \n",
       "max      17.000000  199.000000     122.000000      99.000000  846.000000   \n",
       "\n",
       "              BMI  DiabetesPedigreeFunction         Age     Outcome  \n",
       "count  768.000000                768.000000  768.000000  768.000000  \n",
       "mean    31.992578                  0.471876   33.240885    0.348958  \n",
       "std      7.884160                  0.331329   11.760232    0.476951  \n",
       "min      0.000000                  0.078000   21.000000    0.000000  \n",
       "25%     27.300000                  0.243750   24.000000    0.000000  \n",
       "50%     32.000000                  0.372500   29.000000    0.000000  \n",
       "75%     36.600000                  0.626250   41.000000    1.000000  \n",
       "max     67.100000                  2.420000   81.000000    1.000000  "
      ]
     },
     "execution_count": 4,
     "metadata": {},
     "output_type": "execute_result"
    }
   ],
   "source": [
    "df.describe()"
   ]
  },
  {
   "cell_type": "code",
   "execution_count": 5,
   "id": "6e11d413",
   "metadata": {},
   "outputs": [],
   "source": [
    "train, validate, test = np.split(df.sample(frac=1, random_state=2), [int(.75*len(df)), int(.9*len(df))])"
   ]
  },
  {
   "cell_type": "code",
   "execution_count": 6,
   "id": "fe075f4e",
   "metadata": {},
   "outputs": [
    {
     "data": {
      "text/plain": [
       "Pregnancies                 768\n",
       "Glucose                     768\n",
       "BloodPressure               768\n",
       "SkinThickness               768\n",
       "Insulin                     768\n",
       "BMI                         768\n",
       "DiabetesPedigreeFunction    768\n",
       "Age                         768\n",
       "Outcome                     768\n",
       "dtype: int64"
      ]
     },
     "execution_count": 6,
     "metadata": {},
     "output_type": "execute_result"
    }
   ],
   "source": [
    "df.count()"
   ]
  },
  {
   "cell_type": "code",
   "execution_count": 7,
   "id": "1edf1c0d",
   "metadata": {},
   "outputs": [
    {
     "data": {
      "text/plain": [
       "Pregnancies                 576\n",
       "Glucose                     576\n",
       "BloodPressure               576\n",
       "SkinThickness               576\n",
       "Insulin                     576\n",
       "BMI                         576\n",
       "DiabetesPedigreeFunction    576\n",
       "Age                         576\n",
       "Outcome                     576\n",
       "dtype: int64"
      ]
     },
     "execution_count": 7,
     "metadata": {},
     "output_type": "execute_result"
    }
   ],
   "source": [
    "train.count()"
   ]
  },
  {
   "cell_type": "code",
   "execution_count": 8,
   "id": "bb27cba3",
   "metadata": {},
   "outputs": [
    {
     "data": {
      "text/plain": [
       "Pregnancies                 115\n",
       "Glucose                     115\n",
       "BloodPressure               115\n",
       "SkinThickness               115\n",
       "Insulin                     115\n",
       "BMI                         115\n",
       "DiabetesPedigreeFunction    115\n",
       "Age                         115\n",
       "Outcome                     115\n",
       "dtype: int64"
      ]
     },
     "execution_count": 8,
     "metadata": {},
     "output_type": "execute_result"
    }
   ],
   "source": [
    "validate.count()"
   ]
  },
  {
   "cell_type": "code",
   "execution_count": 9,
   "id": "d78b337c",
   "metadata": {},
   "outputs": [
    {
     "data": {
      "text/plain": [
       "Pregnancies                 77\n",
       "Glucose                     77\n",
       "BloodPressure               77\n",
       "SkinThickness               77\n",
       "Insulin                     77\n",
       "BMI                         77\n",
       "DiabetesPedigreeFunction    77\n",
       "Age                         77\n",
       "Outcome                     77\n",
       "dtype: int64"
      ]
     },
     "execution_count": 9,
     "metadata": {},
     "output_type": "execute_result"
    }
   ],
   "source": [
    "test.count()"
   ]
  },
  {
   "cell_type": "code",
   "execution_count": 10,
   "id": "3f54467a",
   "metadata": {},
   "outputs": [],
   "source": [
    "X_train = train.loc[:, train.columns != \"Outcome\"]\n",
    "Y_train = train[[\"Outcome\"]]\n",
    "X_validate = validate.loc[:, validate.columns != \"Outcome\"]\n",
    "Y_validate = validate[[\"Outcome\"]]\n",
    "X_test = test.loc[:, test.columns != \"Outcome\"]\n",
    "Y_test = test[[\"Outcome\"]]"
   ]
  },
  {
   "cell_type": "code",
   "execution_count": 11,
   "id": "1259b69e",
   "metadata": {},
   "outputs": [],
   "source": [
    "classifier = MLPClassifier(solver=\"adam\", \n",
    "                    max_iter=300, \n",
    "                    activation = \"relu\",\n",
    "                    hidden_layer_sizes = (100),                      \n",
    "                    alpha = 0.0001,\n",
    "                    batch_size = \"auto\",\n",
    "                    learning_rate_init = 0.001,\n",
    "                    random_state=None)\n",
    "\n",
    "classifier.fit(X_train, Y_train.values.ravel());"
   ]
  },
  {
   "cell_type": "code",
   "execution_count": 12,
   "id": "ff59f711",
   "metadata": {},
   "outputs": [
    {
     "name": "stdout",
     "output_type": "stream",
     "text": [
      "0.6869565217391305\n"
     ]
    }
   ],
   "source": [
    "from sklearn import metrics\n",
    "pred_y = classifier.predict(X_validate)\n",
    "print(metrics.accuracy_score(Y_validate, pred_y))"
   ]
  },
  {
   "cell_type": "code",
   "execution_count": 13,
   "id": "090c784e",
   "metadata": {},
   "outputs": [],
   "source": [
    "classifier1 = MLPClassifier(solver=\"adam\", max_iter=10000, activation = \"relu\",\n",
    "                    hidden_layer_sizes = (12),                      \n",
    "                    alpha = 0.01,\n",
    "                    batch_size = 74,\n",
    "                    learning_rate_init = 0.001,\n",
    "                    random_state=2)\n",
    "\n",
    "classifier1.fit(X_train, Y_train.values.ravel());"
   ]
  },
  {
   "cell_type": "code",
   "execution_count": 14,
   "id": "315c2db1",
   "metadata": {},
   "outputs": [
    {
     "name": "stdout",
     "output_type": "stream",
     "text": [
      "0.7217391304347827\n"
     ]
    }
   ],
   "source": [
    "Y_validate_pred = classifier1.predict(X_validate)\n",
    "print(metrics.accuracy_score(Y_validate, Y_validate_pred))"
   ]
  },
  {
   "cell_type": "code",
   "execution_count": 15,
   "id": "ac2de459",
   "metadata": {},
   "outputs": [
    {
     "name": "stdout",
     "output_type": "stream",
     "text": [
      "[[59 13]\n",
      " [19 24]]\n"
     ]
    }
   ],
   "source": [
    "print(metrics.confusion_matrix(Y_validate, Y_validate_pred))"
   ]
  },
  {
   "cell_type": "code",
   "execution_count": 16,
   "id": "9665fae5",
   "metadata": {},
   "outputs": [
    {
     "data": {
      "image/png": "[encoded data removed]",
      "text/plain": [
       "<Figure size 432x288 with 2 Axes>"
      ]
     },
     "metadata": {},
     "output_type": "display_data"
    }
   ],
   "source": [
    "fig = plot_confusion_matrix(classifier1, X_test, Y_test, display_labels=classifier1.classes_)\n",
    "fig.figure_.suptitle(\"Confusion Matrix for Diabetes Dataset\")\n",
    "plt.show()"
   ]
  },
  {
   "cell_type": "code",
   "execution_count": 17,
   "id": "7d3bfb6a",
   "metadata": {},
   "outputs": [],
   "source": [
    "TN, FP, FN, TP = metrics.confusion_matrix(Y_validate, Y_validate_pred).ravel()"
   ]
  },
  {
   "cell_type": "code",
   "execution_count": 18,
   "id": "26b40287",
   "metadata": {},
   "outputs": [
    {
     "name": "stdout",
     "output_type": "stream",
     "text": [
      "Precision 0.6486486486486487\n"
     ]
    }
   ],
   "source": [
    "print(\"Precision\" , TP / (TP+FP))"
   ]
  },
  {
   "cell_type": "code",
   "execution_count": 19,
   "id": "e0341991",
   "metadata": {},
   "outputs": [
    {
     "name": "stdout",
     "output_type": "stream",
     "text": [
      "Recall 0.5581395348837209\n"
     ]
    }
   ],
   "source": [
    "print(\"Recall\" , TP / (TP+FN))"
   ]
  },
  {
   "cell_type": "code",
   "execution_count": 20,
   "id": "3a3734b8",
   "metadata": {},
   "outputs": [
    {
     "data": {
      "image/png": "[encoded data removed]",
      "text/plain": [
       "<Figure size 432x288 with 1 Axes>"
      ]
     },
     "metadata": {},
     "output_type": "display_data"
    }
   ],
   "source": [
    "plt.plot(classifier1.loss_curve_)\n",
    "plt.title(\"Loss Curve\", fontsize=14)\n",
    "plt.xlabel('Iterations')\n",
    "plt.ylabel('Cost')\n",
    "plt.show()"
   ]
  },
  {
   "cell_type": "code",
   "execution_count": 24,
   "id": "3cfc2508",
   "metadata": {},
   "outputs": [],
   "source": [
    "classifier4 = MLPClassifier(solver=\"adam\", max_iter=10000, activation = \"relu\",\n",
    "                    hidden_layer_sizes = (12),                      \n",
    "                    alpha = 0.01,\n",
    "                    batch_size = 74,\n",
    "                    learning_rate_init = 0.001,\n",
    "                    random_state=2)\n",
    "\n",
    "classifier4.fit(X_validate, Y_validate.values.ravel());"
   ]
  },
  {
   "cell_type": "code",
   "execution_count": 25,
   "id": "8ede15f7",
   "metadata": {},
   "outputs": [
    {
     "data": {
      "image/png": "[encoded data removed]",
      "text/plain": [
       "<Figure size 432x288 with 1 Axes>"
      ]
     },
     "metadata": {},
     "output_type": "display_data"
    }
   ],
   "source": [
    "plt.plot(classifier4.loss_curve_)\n",
    "plt.title(\"Loss Curve\", fontsize=50)\n",
    "plt.xlabel('Iterations')\n",
    "plt.ylabel('Cost')\n",
    "plt.show()"
   ]
  },
  {
   "cell_type": "code",
   "execution_count": 21,
   "id": "d9585123",
   "metadata": {},
   "outputs": [],
   "source": [
    "##Parameter Tuning\n",
    "\n",
    "param_grid = {\n",
    "    'hidden_layer_sizes': [(150,100,50), (120,80,40), (100,50,30)],\n",
    "    'max_iter': [50, 100, 150],\n",
    "    'activation': ['tanh', 'relu'],\n",
    "    'solver': ['sgd', 'adam'],\n",
    "    'alpha': [0.0001, 0.05],\n",
    "    'learning_rate': ['constant','adaptive'],\n",
    "}"
   ]
  },
  {
   "cell_type": "code",
   "execution_count": 22,
   "id": "95c92b7c",
   "metadata": {},
   "outputs": [
    {
     "name": "stderr",
     "output_type": "stream",
     "text": [
      "C:\\ProgramData\\Anaconda3\\lib\\site-packages\\sklearn\\utils\\validation.py:63: DataConversionWarning: A column-vector y was passed when a 1d array was expected. Please change the shape of y to (n_samples, ), for example using ravel().\n",
      "  return f(*args, **kwargs)\n"
     ]
    },
    {
     "name": "stdout",
     "output_type": "stream",
     "text": [
      "{'activation': 'relu', 'alpha': 0.05, 'hidden_layer_sizes': (150, 100, 50), 'learning_rate': 'adaptive', 'max_iter': 100, 'solver': 'sgd'}\n"
     ]
    },
    {
     "name": "stderr",
     "output_type": "stream",
     "text": [
      "C:\\ProgramData\\Anaconda3\\lib\\site-packages\\sklearn\\neural_network\\_multilayer_perceptron.py:614: ConvergenceWarning: Stochastic Optimizer: Maximum iterations (100) reached and the optimization hasn't converged yet.\n",
      "  warnings.warn(\n"
     ]
    }
   ],
   "source": [
    "grid = GridSearchCV(classifier1, param_grid, n_jobs= -1, cv=5)\n",
    "grid.fit(X_train, Y_train)\n",
    "\n",
    "print(grid.best_params_) "
   ]
  },
  {
   "cell_type": "code",
   "execution_count": 23,
   "id": "7ab5b8c1",
   "metadata": {},
   "outputs": [
    {
     "name": "stdout",
     "output_type": "stream",
     "text": [
      "Accuracy: 0.71\n"
     ]
    }
   ],
   "source": [
    "grid_predictions = grid.predict(X_test) \n",
    "\n",
    "print('Accuracy: {:.2f}'.format(accuracy_score(Y_test, grid_predictions)))"
   ]
  },
  {
   "cell_type": "code",
   "execution_count": 31,
   "id": "95dace2d",
   "metadata": {},
   "outputs": [],
   "source": [
    "classifier3 = MLPClassifier(solver=\"adam\", \n",
    "                    max_iter=700, \n",
    "                    activation = \"relu\",\n",
    "                    hidden_layer_sizes = (100),                      \n",
    "                    alpha = 0.0001,\n",
    "                    batch_size = \"auto\",\n",
    "                    learning_rate_init = 0.001,\n",
    "                    random_state=None)\n",
    "\n",
    "classifier3.fit(X_test, Y_test.values.ravel());"
   ]
  },
  {
   "cell_type": "code",
   "execution_count": 32,
   "id": "679b538a",
   "metadata": {},
   "outputs": [
    {
     "data": {
      "image/png": "[encoded data removed]",
      "text/plain": [
       "<Figure size 432x288 with 1 Axes>"
      ]
     },
     "metadata": {},
     "output_type": "display_data"
    }
   ],
   "source": [
    "plt.plot(classifier3.loss_curve_)\n",
    "plt.title(\"Loss Curve\", fontsize=20)\n",
    "plt.xlabel('Iterations')\n",
    "plt.ylabel('Cost')\n",
    "plt.show()"
   ]
  },
  {
   "cell_type": "code",
   "execution_count": null,
   "id": "c75bb96b",
   "metadata": {},
   "outputs": [],
   "source": []
  }
 ],
 "metadata": {
  "kernelspec": {
   "display_name": "Python 3",
   "language": "python",
   "name": "python3"
  },
  "language_info": {
   "codemirror_mode": {
    "name": "ipython",
    "version": 3
   },
   "file_extension": ".py",
   "mimetype": "text/x-python",
   "name": "python",
   "nbconvert_exporter": "python",
   "pygments_lexer": "ipython3",
   "version": "3.8.8"
  }
 },
 "nbformat": 4,
 "nbformat_minor": 5
}
